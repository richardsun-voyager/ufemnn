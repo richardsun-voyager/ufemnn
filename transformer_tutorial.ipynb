{
  "cells": [
    {
      "cell_type": "markdown",
      "source": [
        "**This code is largely based on the Pytorch transformer tutorial for language modeling: https://pytorch.org/tutorials/beginner/transformer_tutorial.html. The motivation of this code is to evaluate whether a language model can capture the co-occurrences between context tokens and target tokens.**\n",
        "\n",
        "Our contribution is to calculate the context-target co-occurrences between context tokens and target tokens and produce the label scores of given tokens in the dimensions corresponding to the associated target tokens."
      ],
      "metadata": {
        "id": "s2HXhMpk-T-l"
      }
    },
    {
      "cell_type": "code",
      "execution_count": 1,
      "metadata": {
        "id": "eKtLbAKK-IkZ"
      },
      "outputs": [],
      "source": [
        "# For tips on running notebooks in Google Colab, see\n",
        "# https://pytorch.org/tutorials/beginner/colab\n",
        "%matplotlib inline"
      ]
    },
    {
      "cell_type": "markdown",
      "metadata": {
        "id": "nZ94WkYa-Ikb"
      },
      "source": [
        "\n",
        "# Language Modeling with ``nn.Transformer`` and torchtext\n",
        "\n",
        "This is a tutorial on training a model to predict the next word in a sequence using the\n",
        "[nn.Transformer](https://pytorch.org/docs/stable/generated/torch.nn.Transformer.html)_ module.\n",
        "\n",
        "The PyTorch 1.2 release includes a standard transformer module based on the\n",
        "paper [Attention is All You Need](https://arxiv.org/pdf/1706.03762.pdf)_.\n",
        "Compared to Recurrent Neural Networks (RNNs), the transformer model has proven\n",
        "to be superior in quality for many sequence-to-sequence tasks while being more\n",
        "parallelizable. The ``nn.Transformer`` module relies entirely on an attention\n",
        "mechanism (implemented as\n",
        "[nn.MultiheadAttention](https://pytorch.org/docs/stable/generated/torch.nn.MultiheadAttention.html)_)\n",
        "to draw global dependencies between input and output. The ``nn.Transformer``\n",
        "module is highly modularized such that a single component (e.g.,\n",
        "[nn.TransformerEncoder](https://pytorch.org/docs/stable/generated/torch.nn.TransformerEncoder.html)_)\n",
        "can be easily adapted/composed.\n",
        "\n",
        "<img src=\"file://../_static/img/transformer_architecture.jpg\">\n"
      ]
    },
    {
      "cell_type": "markdown",
      "metadata": {
        "id": "Tt_Ac7wT-Ikc"
      },
      "source": [
        "## Define the model\n",
        "\n",
        "\n"
      ]
    },
    {
      "cell_type": "markdown",
      "metadata": {
        "id": "t0L6wN2C-Ikd"
      },
      "source": [
        "In this tutorial, we train a ``nn.TransformerEncoder`` model on a\n",
        "language modeling task. Please note that this tutorial does not cover\n",
        "the training of [nn.TransformerDecoder](https://pytorch.org/docs/stable/generated/torch.nn.TransformerDecoder.html#torch.nn.TransformerDecoder)_, as depicted in\n",
        "the right half of the diagram above. The language modeling task is to assign a\n",
        "probability for the likelihood of a given word (or a sequence of words)\n",
        "to follow a sequence of words. A sequence of tokens are passed to the embedding\n",
        "layer first, followed by a positional encoding layer to account for the order\n",
        "of the word (see the next paragraph for more details). The\n",
        "``nn.TransformerEncoder`` consists of multiple layers of\n",
        "[nn.TransformerEncoderLayer](https://pytorch.org/docs/stable/generated/torch.nn.TransformerEncoderLayer.html)_.\n",
        "Along with the input sequence, a square attention mask is required because the\n",
        "self-attention layers in ``nn.TransformerDecoder`` are only allowed to attend\n",
        "the earlier positions in the sequence. For the language modeling task, any\n",
        "tokens on the future positions should be masked. To produce a probability\n",
        "distribution over output words, the output of the ``nn.TransformerEncoder``\n",
        "model is passed through a linear layer to output unnormalized logits.\n",
        "The log-softmax function isn't applied here due to the later use of\n",
        "[CrossEntropyLoss](https://pytorch.org/docs/stable/generated/torch.nn.CrossEntropyLoss.html)_,\n",
        "which requires the inputs to be unnormalized logits.\n",
        "\n",
        "\n"
      ]
    },
    {
      "cell_type": "code",
      "execution_count": 2,
      "metadata": {
        "id": "6dJw5LUI-Ikd"
      },
      "outputs": [],
      "source": [
        "import math\n",
        "import os\n",
        "from tempfile import TemporaryDirectory\n",
        "from typing import Tuple\n",
        "\n",
        "import torch\n",
        "from torch import nn, Tensor\n",
        "from torch.nn import TransformerEncoder, TransformerEncoderLayer\n",
        "from torch.utils.data import dataset\n",
        "\n",
        "class TransformerModel(nn.Module):\n",
        "\n",
        "    def __init__(self, ntoken: int, d_model: int, nhead: int, d_hid: int,\n",
        "                 nlayers: int, dropout: float = 0.5):\n",
        "        super().__init__()\n",
        "        self.model_type = 'Transformer'\n",
        "        self.pos_encoder = PositionalEncoding(d_model, dropout)\n",
        "        encoder_layers = TransformerEncoderLayer(d_model, nhead, d_hid, dropout)\n",
        "        self.transformer_encoder = TransformerEncoder(encoder_layers, nlayers)\n",
        "        self.embedding = nn.Embedding(ntoken, d_model)\n",
        "        self.d_model = d_model\n",
        "        self.linear = nn.Linear(d_model, ntoken)\n",
        "\n",
        "        self.init_weights()\n",
        "\n",
        "    def init_weights(self) -> None:\n",
        "        initrange = 0.1\n",
        "        self.embedding.weight.data.uniform_(-initrange, initrange)\n",
        "        self.linear.bias.data.zero_()\n",
        "        self.linear.weight.data.uniform_(-initrange, initrange)\n",
        "\n",
        "    def forward(self, src: Tensor, src_mask: Tensor = None) -> Tensor:\n",
        "        \"\"\"\n",
        "        Arguments:\n",
        "            src: Tensor, shape ``[seq_len, batch_size]``\n",
        "            src_mask: Tensor, shape ``[seq_len, seq_len]``\n",
        "\n",
        "        Returns:\n",
        "            output Tensor of shape ``[seq_len, batch_size, ntoken]``\n",
        "        \"\"\"\n",
        "        src = self.embedding(src) * math.sqrt(self.d_model)\n",
        "        src = self.pos_encoder(src)\n",
        "        output = self.transformer_encoder(src, src_mask)\n",
        "        output = self.linear(output)\n",
        "        return output"
      ]
    },
    {
      "cell_type": "markdown",
      "metadata": {
        "id": "RG3GCj0Y-Ikd"
      },
      "source": [
        "``PositionalEncoding`` module injects some information about the\n",
        "relative or absolute position of the tokens in the sequence. The\n",
        "positional encodings have the same dimension as the embeddings so that\n",
        "the two can be summed. Here, we use ``sine`` and ``cosine`` functions of\n",
        "different frequencies.\n",
        "\n",
        "\n"
      ]
    },
    {
      "cell_type": "code",
      "execution_count": 3,
      "metadata": {
        "id": "IejKJ8AE-Ikd"
      },
      "outputs": [],
      "source": [
        "class PositionalEncoding(nn.Module):\n",
        "\n",
        "    def __init__(self, d_model: int, dropout: float = 0.1, max_len: int = 5000):\n",
        "        super().__init__()\n",
        "        self.dropout = nn.Dropout(p=dropout)\n",
        "\n",
        "        position = torch.arange(max_len).unsqueeze(1)\n",
        "        div_term = torch.exp(torch.arange(0, d_model, 2) * (-math.log(10000.0) / d_model))\n",
        "        pe = torch.zeros(max_len, 1, d_model)\n",
        "        pe[:, 0, 0::2] = torch.sin(position * div_term)\n",
        "        pe[:, 0, 1::2] = torch.cos(position * div_term)\n",
        "        self.register_buffer('pe', pe)\n",
        "\n",
        "    def forward(self, x: Tensor) -> Tensor:\n",
        "        \"\"\"\n",
        "        Arguments:\n",
        "            x: Tensor, shape ``[seq_len, batch_size, embedding_dim]``\n",
        "        \"\"\"\n",
        "        x = x + self.pe[:x.size(0)]\n",
        "        return self.dropout(x)"
      ]
    },
    {
      "cell_type": "markdown",
      "metadata": {
        "id": "tArPBUEu-Ikd"
      },
      "source": [
        "## Load and batch data\n",
        "\n",
        "\n"
      ]
    },
    {
      "cell_type": "markdown",
      "metadata": {
        "id": "RUYOtDu6-Ike"
      },
      "source": [
        "This tutorial uses ``torchtext`` to generate Wikitext-2 dataset.\n",
        "To access torchtext datasets, please install torchdata following instructions at https://github.com/pytorch/data.\n",
        "%%"
      ]
    },
    {
      "cell_type": "code",
      "execution_count": 4,
      "metadata": {
        "id": "jWZxcFC_-Ike",
        "colab": {
          "base_uri": "https://localhost:8080/"
        },
        "outputId": "73aa5bbc-731d-4570-997c-aea6cac117bd"
      },
      "outputs": [
        {
          "output_type": "stream",
          "name": "stdout",
          "text": [
            "Collecting portalocker\n",
            "  Downloading portalocker-2.8.2-py3-none-any.whl (17 kB)\n",
            "Installing collected packages: portalocker\n",
            "Successfully installed portalocker-2.8.2\n",
            "Requirement already satisfied: torchdata in /usr/local/lib/python3.10/dist-packages (0.6.1)\n",
            "Requirement already satisfied: urllib3>=1.25 in /usr/local/lib/python3.10/dist-packages (from torchdata) (2.0.6)\n",
            "Requirement already satisfied: requests in /usr/local/lib/python3.10/dist-packages (from torchdata) (2.31.0)\n",
            "Requirement already satisfied: torch==2.0.1 in /usr/local/lib/python3.10/dist-packages (from torchdata) (2.0.1+cu118)\n",
            "Requirement already satisfied: filelock in /usr/local/lib/python3.10/dist-packages (from torch==2.0.1->torchdata) (3.12.4)\n",
            "Requirement already satisfied: typing-extensions in /usr/local/lib/python3.10/dist-packages (from torch==2.0.1->torchdata) (4.5.0)\n",
            "Requirement already satisfied: sympy in /usr/local/lib/python3.10/dist-packages (from torch==2.0.1->torchdata) (1.12)\n",
            "Requirement already satisfied: networkx in /usr/local/lib/python3.10/dist-packages (from torch==2.0.1->torchdata) (3.1)\n",
            "Requirement already satisfied: jinja2 in /usr/local/lib/python3.10/dist-packages (from torch==2.0.1->torchdata) (3.1.2)\n",
            "Requirement already satisfied: triton==2.0.0 in /usr/local/lib/python3.10/dist-packages (from torch==2.0.1->torchdata) (2.0.0)\n",
            "Requirement already satisfied: cmake in /usr/local/lib/python3.10/dist-packages (from triton==2.0.0->torch==2.0.1->torchdata) (3.27.6)\n",
            "Requirement already satisfied: lit in /usr/local/lib/python3.10/dist-packages (from triton==2.0.0->torch==2.0.1->torchdata) (17.0.2)\n",
            "Requirement already satisfied: charset-normalizer<4,>=2 in /usr/local/lib/python3.10/dist-packages (from requests->torchdata) (3.3.0)\n",
            "Requirement already satisfied: idna<4,>=2.5 in /usr/local/lib/python3.10/dist-packages (from requests->torchdata) (3.4)\n",
            "Requirement already satisfied: certifi>=2017.4.17 in /usr/local/lib/python3.10/dist-packages (from requests->torchdata) (2023.7.22)\n",
            "Requirement already satisfied: MarkupSafe>=2.0 in /usr/local/lib/python3.10/dist-packages (from jinja2->torch==2.0.1->torchdata) (2.1.3)\n",
            "Requirement already satisfied: mpmath>=0.19 in /usr/local/lib/python3.10/dist-packages (from sympy->torch==2.0.1->torchdata) (1.3.0)\n"
          ]
        }
      ],
      "source": [
        "%%bash\n",
        "pip install portalocker\n",
        "pip install torchdata"
      ]
    },
    {
      "cell_type": "markdown",
      "metadata": {
        "id": "Q6rHUH1Z-Ike"
      },
      "source": [
        "The vocab object is built based on the train dataset and is used to numericalize\n",
        "tokens into tensors. Wikitext-2 represents rare tokens as `<unk>`.\n",
        "\n",
        "Given a 1-D vector of sequential data, ``batchify()`` arranges the data\n",
        "into ``batch_size`` columns. If the data does not divide evenly into\n",
        "``batch_size`` columns, then the data is trimmed to fit. For instance, with\n",
        "the alphabet as the data (total length of 26) and ``batch_size=4``, we would\n",
        "divide the alphabet into sequences of length 6, resulting in 4 of such sequences.\n",
        "\n",
        "\\begin{align}\\begin{bmatrix}\n",
        "  \\text{A} & \\text{B} & \\text{C} & \\ldots & \\text{X} & \\text{Y} & \\text{Z}\n",
        "  \\end{bmatrix}\n",
        "  \\Rightarrow\n",
        "  \\begin{bmatrix}\n",
        "  \\begin{bmatrix}\\text{A} \\\\ \\text{B} \\\\ \\text{C} \\\\ \\text{D} \\\\ \\text{E} \\\\ \\text{F}\\end{bmatrix} &\n",
        "  \\begin{bmatrix}\\text{G} \\\\ \\text{H} \\\\ \\text{I} \\\\ \\text{J} \\\\ \\text{K} \\\\ \\text{L}\\end{bmatrix} &\n",
        "  \\begin{bmatrix}\\text{M} \\\\ \\text{N} \\\\ \\text{O} \\\\ \\text{P} \\\\ \\text{Q} \\\\ \\text{R}\\end{bmatrix} &\n",
        "  \\begin{bmatrix}\\text{S} \\\\ \\text{T} \\\\ \\text{U} \\\\ \\text{V} \\\\ \\text{W} \\\\ \\text{X}\\end{bmatrix}\n",
        "  \\end{bmatrix}\\end{align}\n",
        "\n",
        "Batching enables more parallelizable processing. However, batching means that\n",
        "the model treats each column independently; for example, the dependence of\n",
        "``G`` and ``F`` can not be learned in the example above.\n",
        "\n",
        "\n"
      ]
    },
    {
      "cell_type": "code",
      "execution_count": 5,
      "metadata": {
        "id": "cvH43PBm-Ike"
      },
      "outputs": [],
      "source": [
        "from torchtext.datasets import WikiText2\n",
        "from torchtext.data.utils import get_tokenizer\n",
        "from torchtext.vocab import build_vocab_from_iterator\n",
        "\n",
        "train_iter = WikiText2(split='train')\n",
        "tokenizer = get_tokenizer('basic_english')\n",
        "vocab = build_vocab_from_iterator(map(tokenizer, train_iter), specials=['<unk>'])\n",
        "vocab.set_default_index(vocab['<unk>'])\n",
        "\n",
        "def data_process(raw_text_iter: dataset.IterableDataset) -> Tensor:\n",
        "    \"\"\"Converts raw text into a flat Tensor.\"\"\"\n",
        "    data = [torch.tensor(vocab(tokenizer(item)), dtype=torch.long) for item in raw_text_iter]\n",
        "    return torch.cat(tuple(filter(lambda t: t.numel() > 0, data)))\n",
        "\n",
        "# ``train_iter`` was \"consumed\" by the process of building the vocab,\n",
        "# so we have to create it again\n",
        "train_iter, val_iter, test_iter = WikiText2()\n",
        "train_data = data_process(train_iter)\n",
        "val_data = data_process(val_iter)\n",
        "test_data = data_process(test_iter)\n",
        "\n",
        "device = torch.device('cuda' if torch.cuda.is_available() else 'cpu')\n",
        "\n",
        "def batchify(data: Tensor, bsz: int) -> Tensor:\n",
        "    \"\"\"Divides the data into ``bsz`` separate sequences, removing extra elements\n",
        "    that wouldn't cleanly fit.\n",
        "\n",
        "    Arguments:\n",
        "        data: Tensor, shape ``[N]``\n",
        "        bsz: int, batch size\n",
        "\n",
        "    Returns:\n",
        "        Tensor of shape ``[N // bsz, bsz]``\n",
        "    \"\"\"\n",
        "    seq_len = data.size(0) // bsz\n",
        "    data = data[:seq_len * bsz]\n",
        "    data = data.view(bsz, seq_len).t().contiguous()\n",
        "    return data.to(device)\n",
        "\n",
        "batch_size = 20\n",
        "eval_batch_size = 10\n",
        "train_data = batchify(train_data, batch_size)  # shape ``[seq_len, batch_size]``\n",
        "val_data = batchify(val_data, eval_batch_size)\n",
        "test_data = batchify(test_data, eval_batch_size)"
      ]
    },
    {
      "cell_type": "markdown",
      "metadata": {
        "id": "SFHaKZQU-Ike"
      },
      "source": [
        "### Functions to generate input and target sequence\n",
        "\n",
        "\n"
      ]
    },
    {
      "cell_type": "markdown",
      "metadata": {
        "id": "2P0lHeF2-Ike"
      },
      "source": [
        "``get_batch()`` generates a pair of input-target sequences for\n",
        "the transformer model. It subdivides the source data into chunks of\n",
        "length ``bptt``. For the language modeling task, the model needs the\n",
        "following words as ``Target``. For example, with a ``bptt`` value of 2,\n",
        "we’d get the following two Variables for ``i`` = 0:\n",
        "\n",
        "<img src=\"file://../_static/img/transformer_input_target.png\">\n",
        "\n",
        "It should be noted that the chunks are along dimension 0, consistent\n",
        "with the ``S`` dimension in the Transformer model. The batch dimension\n",
        "``N`` is along dimension 1.\n",
        "\n",
        "\n"
      ]
    },
    {
      "cell_type": "code",
      "execution_count": 6,
      "metadata": {
        "id": "pYkRcviE-Ike"
      },
      "outputs": [],
      "source": [
        "bptt = 35\n",
        "def get_batch(source: Tensor, i: int) -> Tuple[Tensor, Tensor]:\n",
        "    \"\"\"\n",
        "    Args:\n",
        "        source: Tensor, shape ``[full_seq_len, batch_size]``\n",
        "        i: int\n",
        "\n",
        "    Returns:\n",
        "        tuple (data, target), where data has shape ``[seq_len, batch_size]`` and\n",
        "        target has shape ``[seq_len * batch_size]``\n",
        "    \"\"\"\n",
        "    seq_len = min(bptt, len(source) - 1 - i)\n",
        "    data = source[i:i+seq_len]\n",
        "    target = source[i+1:i+1+seq_len].reshape(-1)\n",
        "    return data, target"
      ]
    },
    {
      "cell_type": "markdown",
      "metadata": {
        "id": "A49zM4Zb-Ikf"
      },
      "source": [
        "## Initiate an instance\n",
        "\n",
        "\n"
      ]
    },
    {
      "cell_type": "markdown",
      "metadata": {
        "id": "FhSg-yRW-Ikf"
      },
      "source": [
        "The model hyperparameters are defined below. The ``vocab`` size is\n",
        "equal to the length of the vocab object.\n",
        "\n",
        "\n"
      ]
    },
    {
      "cell_type": "code",
      "execution_count": 7,
      "metadata": {
        "id": "4YUOyqOs-Ikf"
      },
      "outputs": [],
      "source": [
        "ntokens = len(vocab)  # size of vocabulary\n",
        "emsize = 200  # embedding dimension\n",
        "d_hid = 200  # dimension of the feedforward network model in ``nn.TransformerEncoder``\n",
        "nlayers = 2  # number of ``nn.TransformerEncoderLayer`` in ``nn.TransformerEncoder``\n",
        "nhead = 2  # number of heads in ``nn.MultiheadAttention``\n",
        "dropout = 0.2  # dropout probability\n",
        "model = TransformerModel(ntokens, emsize, nhead, d_hid, nlayers, dropout).to(device)"
      ]
    },
    {
      "cell_type": "markdown",
      "metadata": {
        "id": "KdPj02Kr-Ikf"
      },
      "source": [
        "## Run the model\n",
        "\n",
        "\n"
      ]
    },
    {
      "cell_type": "markdown",
      "metadata": {
        "id": "RNrihAHp-Ikf"
      },
      "source": [
        "We use [CrossEntropyLoss](https://pytorch.org/docs/stable/generated/torch.nn.CrossEntropyLoss.html)_\n",
        "with the [SGD](https://pytorch.org/docs/stable/generated/torch.optim.SGD.html)_\n",
        "(stochastic gradient descent) optimizer. The learning rate is initially set to\n",
        "5.0 and follows a [StepLR](https://pytorch.org/docs/stable/generated/torch.optim.lr_scheduler.StepLR.html)_\n",
        "schedule. During training, we use [nn.utils.clip_grad_norm\\_](https://pytorch.org/docs/stable/generated/torch.nn.utils.clip_grad_norm_.html)_\n",
        "to prevent gradients from exploding.\n",
        "\n",
        "\n"
      ]
    },
    {
      "cell_type": "code",
      "execution_count": 8,
      "metadata": {
        "id": "Pdl3ht_A-Ikf"
      },
      "outputs": [],
      "source": [
        "import time\n",
        "\n",
        "criterion = nn.CrossEntropyLoss()\n",
        "lr = 5.0  # learning rate\n",
        "optimizer = torch.optim.SGD(model.parameters(), lr=lr)\n",
        "scheduler = torch.optim.lr_scheduler.StepLR(optimizer, 1.0, gamma=0.95)\n",
        "\n",
        "def train(model: nn.Module) -> None:\n",
        "    model.train()  # turn on train mode\n",
        "    total_loss = 0.\n",
        "    log_interval = 200\n",
        "    start_time = time.time()\n",
        "\n",
        "    num_batches = len(train_data) // bptt\n",
        "    for batch, i in enumerate(range(0, train_data.size(0) - 1, bptt)):\n",
        "        data, targets = get_batch(train_data, i)\n",
        "        output = model(data)\n",
        "        output_flat = output.view(-1, ntokens)\n",
        "        loss = criterion(output_flat, targets)\n",
        "\n",
        "        optimizer.zero_grad()\n",
        "        loss.backward()\n",
        "        torch.nn.utils.clip_grad_norm_(model.parameters(), 0.5)\n",
        "        optimizer.step()\n",
        "\n",
        "        total_loss += loss.item()\n",
        "        if batch % log_interval == 0 and batch > 0:\n",
        "            lr = scheduler.get_last_lr()[0]\n",
        "            ms_per_batch = (time.time() - start_time) * 1000 / log_interval\n",
        "            cur_loss = total_loss / log_interval\n",
        "            ppl = math.exp(cur_loss)\n",
        "            print(f'| epoch {epoch:3d} | {batch:5d}/{num_batches:5d} batches | '\n",
        "                  f'lr {lr:02.2f} | ms/batch {ms_per_batch:5.2f} | '\n",
        "                  f'loss {cur_loss:5.2f} | ppl {ppl:8.2f}')\n",
        "            total_loss = 0\n",
        "            start_time = time.time()\n",
        "\n",
        "def evaluate(model: nn.Module, eval_data: Tensor) -> float:\n",
        "    model.eval()  # turn on evaluation mode\n",
        "    total_loss = 0.\n",
        "    with torch.no_grad():\n",
        "        for i in range(0, eval_data.size(0) - 1, bptt):\n",
        "            data, targets = get_batch(eval_data, i)\n",
        "            seq_len = data.size(0)\n",
        "            output = model(data)\n",
        "            output_flat = output.view(-1, ntokens)\n",
        "            total_loss += seq_len * criterion(output_flat, targets).item()\n",
        "    return total_loss / (len(eval_data) - 1)"
      ]
    },
    {
      "cell_type": "markdown",
      "metadata": {
        "id": "MTV3J2SB-Ikf"
      },
      "source": [
        "Loop over epochs. Save the model if the validation loss is the best\n",
        "we've seen so far. Adjust the learning rate after each epoch.\n",
        "\n"
      ]
    },
    {
      "cell_type": "code",
      "execution_count": 9,
      "metadata": {
        "id": "z_0ZFMqX-Ikf",
        "colab": {
          "base_uri": "https://localhost:8080/"
        },
        "outputId": "20ce324b-77d7-4bfc-df8c-03de71f09409"
      },
      "outputs": [
        {
          "output_type": "stream",
          "name": "stdout",
          "text": [
            "| epoch   1 |   200/ 2928 batches | lr 5.00 | ms/batch 28.65 | loss  8.09 | ppl  3277.89\n",
            "| epoch   1 |   400/ 2928 batches | lr 5.00 | ms/batch 21.11 | loss  6.17 | ppl   479.20\n",
            "| epoch   1 |   600/ 2928 batches | lr 5.00 | ms/batch 15.74 | loss  5.63 | ppl   278.23\n",
            "| epoch   1 |   800/ 2928 batches | lr 5.00 | ms/batch 14.58 | loss  5.41 | ppl   223.33\n",
            "| epoch   1 |  1000/ 2928 batches | lr 5.00 | ms/batch 13.67 | loss  5.15 | ppl   172.61\n",
            "| epoch   1 |  1200/ 2928 batches | lr 5.00 | ms/batch 14.30 | loss  4.81 | ppl   122.72\n",
            "| epoch   1 |  1400/ 2928 batches | lr 5.00 | ms/batch 13.76 | loss  4.44 | ppl    84.94\n",
            "| epoch   1 |  1600/ 2928 batches | lr 5.00 | ms/batch 13.77 | loss  4.19 | ppl    65.74\n",
            "| epoch   1 |  1800/ 2928 batches | lr 5.00 | ms/batch 13.91 | loss  3.91 | ppl    49.89\n",
            "| epoch   1 |  2000/ 2928 batches | lr 5.00 | ms/batch 14.19 | loss  3.78 | ppl    44.01\n",
            "| epoch   1 |  2200/ 2928 batches | lr 5.00 | ms/batch 14.18 | loss  3.60 | ppl    36.43\n",
            "| epoch   1 |  2400/ 2928 batches | lr 5.00 | ms/batch 13.99 | loss  3.57 | ppl    35.60\n",
            "| epoch   1 |  2600/ 2928 batches | lr 5.00 | ms/batch 14.02 | loss  3.49 | ppl    32.68\n",
            "| epoch   1 |  2800/ 2928 batches | lr 5.00 | ms/batch 14.13 | loss  3.37 | ppl    28.99\n",
            "-----------------------------------------------------------------------------------------\n",
            "| end of epoch   1 | time: 47.77s | valid loss  2.12 | valid ppl     8.33\n",
            "-----------------------------------------------------------------------------------------\n",
            "| epoch   2 |   200/ 2928 batches | lr 4.75 | ms/batch 14.25 | loss  3.12 | ppl    22.67\n",
            "| epoch   2 |   400/ 2928 batches | lr 4.75 | ms/batch 14.27 | loss  3.06 | ppl    21.40\n",
            "| epoch   2 |   600/ 2928 batches | lr 4.75 | ms/batch 14.38 | loss  2.92 | ppl    18.52\n",
            "| epoch   2 |   800/ 2928 batches | lr 4.75 | ms/batch 14.80 | loss  2.90 | ppl    18.10\n",
            "| epoch   2 |  1000/ 2928 batches | lr 4.75 | ms/batch 14.49 | loss  2.77 | ppl    15.93\n",
            "| epoch   2 |  1200/ 2928 batches | lr 4.75 | ms/batch 14.51 | loss  2.78 | ppl    16.20\n",
            "| epoch   2 |  1400/ 2928 batches | lr 4.75 | ms/batch 14.52 | loss  2.76 | ppl    15.74\n",
            "| epoch   2 |  1600/ 2928 batches | lr 4.75 | ms/batch 15.03 | loss  2.78 | ppl    16.09\n",
            "| epoch   2 |  1800/ 2928 batches | lr 4.75 | ms/batch 14.55 | loss  2.69 | ppl    14.78\n",
            "| epoch   2 |  2000/ 2928 batches | lr 4.75 | ms/batch 14.46 | loss  2.69 | ppl    14.67\n",
            "| epoch   2 |  2200/ 2928 batches | lr 4.75 | ms/batch 14.43 | loss  2.65 | ppl    14.10\n",
            "| epoch   2 |  2400/ 2928 batches | lr 4.75 | ms/batch 14.68 | loss  2.68 | ppl    14.58\n",
            "| epoch   2 |  2600/ 2928 batches | lr 4.75 | ms/batch 14.42 | loss  2.66 | ppl    14.29\n",
            "| epoch   2 |  2800/ 2928 batches | lr 4.75 | ms/batch 14.29 | loss  2.59 | ppl    13.33\n",
            "-----------------------------------------------------------------------------------------\n",
            "| end of epoch   2 | time: 44.26s | valid loss  1.93 | valid ppl     6.88\n",
            "-----------------------------------------------------------------------------------------\n",
            "| epoch   3 |   200/ 2928 batches | lr 4.51 | ms/batch 14.62 | loss  2.46 | ppl    11.68\n",
            "| epoch   3 |   400/ 2928 batches | lr 4.51 | ms/batch 14.31 | loss  2.44 | ppl    11.45\n",
            "| epoch   3 |   600/ 2928 batches | lr 4.51 | ms/batch 14.23 | loss  2.37 | ppl    10.71\n",
            "| epoch   3 |   800/ 2928 batches | lr 4.51 | ms/batch 14.52 | loss  2.37 | ppl    10.65\n",
            "| epoch   3 |  1000/ 2928 batches | lr 4.51 | ms/batch 15.27 | loss  2.31 | ppl    10.11\n",
            "| epoch   3 |  1200/ 2928 batches | lr 4.51 | ms/batch 14.41 | loss  2.35 | ppl    10.51\n",
            "| epoch   3 |  1400/ 2928 batches | lr 4.51 | ms/batch 14.14 | loss  2.37 | ppl    10.74\n",
            "| epoch   3 |  1600/ 2928 batches | lr 4.51 | ms/batch 14.15 | loss  2.33 | ppl    10.25\n",
            "| epoch   3 |  1800/ 2928 batches | lr 4.51 | ms/batch 14.26 | loss  2.30 | ppl    10.01\n",
            "| epoch   3 |  2000/ 2928 batches | lr 4.51 | ms/batch 14.58 | loss  2.35 | ppl    10.54\n",
            "| epoch   3 |  2200/ 2928 batches | lr 4.51 | ms/batch 14.17 | loss  2.38 | ppl    10.75\n",
            "| epoch   3 |  2400/ 2928 batches | lr 4.51 | ms/batch 14.16 | loss  2.33 | ppl    10.30\n",
            "| epoch   3 |  2600/ 2928 batches | lr 4.51 | ms/batch 14.24 | loss  2.39 | ppl    10.90\n",
            "| epoch   3 |  2800/ 2928 batches | lr 4.51 | ms/batch 14.87 | loss  2.26 | ppl     9.56\n",
            "-----------------------------------------------------------------------------------------\n",
            "| end of epoch   3 | time: 44.28s | valid loss  1.42 | valid ppl     4.14\n",
            "-----------------------------------------------------------------------------------------\n"
          ]
        }
      ],
      "source": [
        "best_val_loss = float('inf')\n",
        "epochs = 3\n",
        "\n",
        "with TemporaryDirectory() as tempdir:\n",
        "    best_model_params_path = os.path.join(tempdir, \"best_model_params.pt\")\n",
        "\n",
        "    for epoch in range(1, epochs + 1):\n",
        "        epoch_start_time = time.time()\n",
        "        train(model)\n",
        "        val_loss = evaluate(model, val_data)\n",
        "        val_ppl = math.exp(val_loss)\n",
        "        elapsed = time.time() - epoch_start_time\n",
        "        print('-' * 89)\n",
        "        print(f'| end of epoch {epoch:3d} | time: {elapsed:5.2f}s | '\n",
        "            f'valid loss {val_loss:5.2f} | valid ppl {val_ppl:8.2f}')\n",
        "        print('-' * 89)\n",
        "\n",
        "        if val_loss < best_val_loss:\n",
        "            best_val_loss = val_loss\n",
        "            torch.save(model.state_dict(), best_model_params_path)\n",
        "\n",
        "        scheduler.step()\n",
        "    model.load_state_dict(torch.load(best_model_params_path)) # load best model states"
      ]
    },
    {
      "cell_type": "markdown",
      "metadata": {
        "id": "n2Y_D9pI-Ikf"
      },
      "source": [
        "## Evaluate the best model on the test dataset\n",
        "\n",
        "\n"
      ]
    },
    {
      "cell_type": "code",
      "execution_count": 10,
      "metadata": {
        "id": "gKh30hPK-Ikf",
        "colab": {
          "base_uri": "https://localhost:8080/"
        },
        "outputId": "cfed4592-2d70-486f-c679-b4426f7e5058"
      },
      "outputs": [
        {
          "output_type": "stream",
          "name": "stdout",
          "text": [
            "=========================================================================================\n",
            "| End of training | test loss  1.37 | test ppl     3.95\n",
            "=========================================================================================\n"
          ]
        }
      ],
      "source": [
        "test_loss = evaluate(model, test_data)\n",
        "test_ppl = math.exp(test_loss)\n",
        "print('=' * 89)\n",
        "print(f'| End of training | test loss {test_loss:5.2f} | '\n",
        "      f'test ppl {test_ppl:8.2f}')\n",
        "print('=' * 89)"
      ]
    },
    {
      "cell_type": "markdown",
      "source": [
        "## Calculate context-target token co-occurrences"
      ],
      "metadata": {
        "id": "BHdDYcN5BuMO"
      }
    },
    {
      "cell_type": "markdown",
      "source": [
        "A language modeling task can be viewed as a special variant of multi-class classification, where the label space is the same as the vocabulary space. For the decoder-only architecture, the context is the tokens ahead of the token to be predicted and the target is the token to be predicted."
      ],
      "metadata": {
        "id": "MYbgLIqoCBXQ"
      }
    },
    {
      "cell_type": "code",
      "source": [
        "###Get the most frequent tokens\n",
        "num_batches = len(train_data) // bptt\n",
        "tokens = []\n",
        "for batch, i in enumerate(range(0, train_data.size(0) - 1, bptt)):\n",
        "    data, targets = get_batch(train_data, i)\n",
        "    max_len, batch_size = data.shape\n",
        "    targets = targets.reshape(max_len, batch_size)#.transpose(0, 1)\n",
        "    #data = data.transpose(0, 1)\n",
        "    # targets = targets.view\n",
        "\n",
        "    tokens += list(data.flatten().cpu().numpy())"
      ],
      "metadata": {
        "id": "8y_cdhsABzMj"
      },
      "execution_count": 11,
      "outputs": []
    },
    {
      "cell_type": "code",
      "source": [
        "####Get the context-target pairs\n",
        "num_batches = len(train_data) // bptt\n",
        "word_pairs = []\n",
        "for batch, i in enumerate(range(0, train_data.size(0) - 1, bptt)):\n",
        "    data, targets = get_batch(train_data, i)\n",
        "    max_len, batch_size = data.shape\n",
        "    targets = targets.reshape(max_len, batch_size)#.transpose(0, 1)\n",
        "    #data = data.transpose(0, 1)\n",
        "    # targets = targets.view\n",
        "\n",
        "    for k in range(batch_size):\n",
        "        for j in range(max_len):\n",
        "            pair_B = targets[j, k].item()\n",
        "            word_pairs += [(d.item(), pair_B) for d in data[:(j+1), k].cpu()]"
      ],
      "metadata": {
        "id": "w7jvh2wuB6Bh"
      },
      "execution_count": 12,
      "outputs": []
    },
    {
      "cell_type": "code",
      "source": [
        "len(word_pairs)"
      ],
      "metadata": {
        "colab": {
          "base_uri": "https://localhost:8080/"
        },
        "id": "HwknOgktC74p",
        "outputId": "84efee9c-957b-45a6-a057-36af44afaacb"
      },
      "execution_count": 13,
      "outputs": [
        {
          "output_type": "execute_result",
          "data": {
            "text/plain": [
              "36896220"
            ]
          },
          "metadata": {},
          "execution_count": 13
        }
      ]
    },
    {
      "cell_type": "code",
      "source": [
        "from collections import Counter\n",
        "word_pair_freq = Counter(word_pairs)"
      ],
      "metadata": {
        "id": "Fsy0LZU5C_Rp"
      },
      "execution_count": 14,
      "outputs": []
    },
    {
      "cell_type": "code",
      "source": [
        "word_pair_freq.most_common(10)"
      ],
      "metadata": {
        "colab": {
          "base_uri": "https://localhost:8080/"
        },
        "id": "rrgn4ynZIWcO",
        "outputId": "66ef4753-dba0-44a6-f12e-44bc870a0f86"
      },
      "execution_count": 15,
      "outputs": [
        {
          "output_type": "execute_result",
          "data": {
            "text/plain": [
              "[((1, 1), 151366),\n",
              " ((2, 1), 114408),\n",
              " ((1, 2), 110086),\n",
              " ((3, 1), 101251),\n",
              " ((2, 2), 93397),\n",
              " ((1, 3), 90525),\n",
              " ((1, 4), 78537),\n",
              " ((4, 1), 77743),\n",
              " ((9, 9), 74792),\n",
              " ((3, 2), 73245)]"
            ]
          },
          "metadata": {},
          "execution_count": 15
        }
      ]
    },
    {
      "cell_type": "code",
      "source": [
        "word_freq = Counter(tokens)\n",
        "print(word_freq.most_common(10))"
      ],
      "metadata": {
        "colab": {
          "base_uri": "https://localhost:8080/"
        },
        "id": "6ccb7Ix8IaMJ",
        "outputId": "07290bcd-f932-4fa4-d573-cef5a01ae41a"
      },
      "execution_count": 17,
      "outputs": [
        {
          "output_type": "stream",
          "name": "stdout",
          "text": [
            "[(1, 130765), (2, 102611), (3, 83395), (4, 57029), (0, 54625), (5, 50735), (6, 45013), (7, 39521), (8, 36522), (9, 29570)]\n"
          ]
        }
      ]
    },
    {
      "cell_type": "markdown",
      "source": [
        "Find out top 50 tokens that are seen frequently"
      ],
      "metadata": {
        "id": "3v5w9O7uJXri"
      }
    },
    {
      "cell_type": "code",
      "source": [
        "# print(word_freq.most_common(50))\n",
        "num = 20\n",
        "# print([vocab.lookup_token(w) for w in range(num)])\n",
        "popular_tokens, _ = zip(*word_freq.most_common(num))\n",
        "print(popular_tokens)"
      ],
      "metadata": {
        "colab": {
          "base_uri": "https://localhost:8080/"
        },
        "id": "c4zw4CHrJUHS",
        "outputId": "8bdc0a46-556d-4f6c-f934-209bde63eec8"
      },
      "execution_count": 31,
      "outputs": [
        {
          "output_type": "stream",
          "name": "stdout",
          "text": [
            "(1, 2, 3, 4, 0, 5, 6, 7, 8, 9, 10, 11, 12, 13, 14, 15, 16, 17, 18, 19)\n"
          ]
        }
      ]
    },
    {
      "cell_type": "code",
      "source": [
        "#given a token, find the frequency with each label\n",
        "import numpy as np\n",
        "vocab_size = len(vocab)\n",
        "extracted_tokens = popular_tokens\n",
        "extracte_token_freqs = {}\n",
        "for j in extracted_tokens:\n",
        "    freqs = []\n",
        "    for i in range(vocab_size):\n",
        "        pair = (j, i)\n",
        "        freq = word_pair_freq[pair]\n",
        "        freqs.append(freq)\n",
        "    total_freq = sum(freqs)\n",
        "    freq_ratio = np.array(freqs)/total_freq\n",
        "    extracte_token_freqs[j] = freq_ratio"
      ],
      "metadata": {
        "id": "ETA9b9WHJF4M"
      },
      "execution_count": 32,
      "outputs": []
    },
    {
      "cell_type": "code",
      "source": [
        "from matplotlib import pyplot as plt\n",
        "topk_scores = []\n",
        "downk_scores = []\n",
        "for token_index in popular_tokens:\n",
        "    extracte_token_freqs_tensor = torch.tensor(extracte_token_freqs[token_index])\n",
        "    values, top_indices = torch.topk(extracte_token_freqs_tensor, 10)\n",
        "    values, bottom_indices = torch.topk(extracte_token_freqs_tensor, largest=False, k=10)\n",
        "\n",
        "    #print(token_index, top_indices, bottom_indices)\n",
        "    ###visualization\n",
        "    input_token = torch.LongTensor([[token_index]]).to(device)\n",
        "    output = model(input_token, src_mask=None)\n",
        "    output_flat = output.squeeze()\n",
        "    topk_scores.append(output_flat[top_indices].detach().cpu().numpy())\n",
        "    downk_scores.append(output_flat[bottom_indices].detach().cpu().numpy())"
      ],
      "metadata": {
        "id": "5osMjgPTJei4"
      },
      "execution_count": 33,
      "outputs": []
    },
    {
      "cell_type": "code",
      "source": [
        "plt.boxplot(topk_scores, patch_artist=True)\n",
        "plt.boxplot(downk_scores)\n",
        "plt.xlabel('Token Index')\n",
        "plt.ylabel('Label Score')\n",
        "# plt.savefig(\"imgs/wiki2_transformer_lm_polarity_score_boxplot.pdf\", bbox_inches='tight', dpi=900)"
      ],
      "metadata": {
        "colab": {
          "base_uri": "https://localhost:8080/",
          "height": 466
        },
        "id": "RqfpwyRcJjU5",
        "outputId": "77c815bb-7601-44e2-c0ca-7d179d94d0df"
      },
      "execution_count": 34,
      "outputs": [
        {
          "output_type": "execute_result",
          "data": {
            "text/plain": [
              "Text(0, 0.5, 'Label Score')"
            ]
          },
          "metadata": {},
          "execution_count": 34
        },
        {
          "output_type": "display_data",
          "data": {
            "text/plain": [
              "<Figure size 640x480 with 1 Axes>"
            ],
            "image/png": "[encoded data removed]"
          },
          "metadata": {}
        }
      ]
    }
  ],
  "metadata": {
    "kernelspec": {
      "display_name": "Python 3",
      "name": "python3"
    },
    "language_info": {
      "codemirror_mode": {
        "name": "ipython",
        "version": 3
      },
      "file_extension": ".py",
      "mimetype": "text/x-python",
      "name": "python",
      "nbconvert_exporter": "python",
      "pygments_lexer": "ipython3",
      "version": "3.10.13"
    },
    "colab": {
      "provenance": [],
      "gpuType": "T4"
    },
    "accelerator": "GPU"
  },
  "nbformat": 4,
  "nbformat_minor": 0
}